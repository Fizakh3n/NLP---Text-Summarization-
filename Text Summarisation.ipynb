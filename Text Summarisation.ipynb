{
 "cells": [
  {
   "cell_type": "markdown",
   "id": "2e6a5407-32a9-44d1-a86a-56bf59423cd8",
   "metadata": {},
   "source": [
    "# TEXT SUMMARISATION MODEL "
   ]
  },
  {
   "cell_type": "markdown",
   "id": "f830840a-926d-4187-80b1-3c91d865f2f4",
   "metadata": {},
   "source": [
    "### Importing libraries "
   ]
  },
  {
   "cell_type": "code",
   "execution_count": 1,
   "id": "f15e71ea-3814-4cf0-952e-c20afd51c646",
   "metadata": {},
   "outputs": [],
   "source": [
    "import pandas as pd \n",
    "import numpy as np \n",
    "import matplotlib.pyplot as plt \n",
    "import seaborn as sns "
   ]
  },
  {
   "cell_type": "code",
   "execution_count": 2,
   "id": "030cff4a-a34e-498e-80e7-5ffd9ecd639c",
   "metadata": {},
   "outputs": [],
   "source": [
    "\n",
    "bbc_data = pd.read_csv(r'C:\\Users\\Windows\\Desktop\\projects\\bbc_data.csv')\n"
   ]
  },
  {
   "cell_type": "markdown",
   "id": "c942babe-711e-4c4d-aedb-3c3248ad2794",
   "metadata": {},
   "source": [
    "### Exploring the data "
   ]
  },
  {
   "cell_type": "code",
   "execution_count": 3,
   "id": "62e280dd-ee96-4008-a8f1-f0ffcf52c8f8",
   "metadata": {},
   "outputs": [
    {
     "data": {
      "text/html": [
       "<div>\n",
       "<style scoped>\n",
       "    .dataframe tbody tr th:only-of-type {\n",
       "        vertical-align: middle;\n",
       "    }\n",
       "\n",
       "    .dataframe tbody tr th {\n",
       "        vertical-align: top;\n",
       "    }\n",
       "\n",
       "    .dataframe thead th {\n",
       "        text-align: right;\n",
       "    }\n",
       "</style>\n",
       "<table border=\"1\" class=\"dataframe\">\n",
       "  <thead>\n",
       "    <tr style=\"text-align: right;\">\n",
       "      <th></th>\n",
       "      <th>data</th>\n",
       "      <th>labels</th>\n",
       "    </tr>\n",
       "  </thead>\n",
       "  <tbody>\n",
       "    <tr>\n",
       "      <th>0</th>\n",
       "      <td>Musicians to tackle US red tape  Musicians gro...</td>\n",
       "      <td>entertainment</td>\n",
       "    </tr>\n",
       "    <tr>\n",
       "      <th>1</th>\n",
       "      <td>U2s desire to be number one  U2, who have won ...</td>\n",
       "      <td>entertainment</td>\n",
       "    </tr>\n",
       "    <tr>\n",
       "      <th>2</th>\n",
       "      <td>Rocker Doherty in on-stage fight  Rock singer ...</td>\n",
       "      <td>entertainment</td>\n",
       "    </tr>\n",
       "    <tr>\n",
       "      <th>3</th>\n",
       "      <td>Snicket tops US box office chart  The film ada...</td>\n",
       "      <td>entertainment</td>\n",
       "    </tr>\n",
       "    <tr>\n",
       "      <th>4</th>\n",
       "      <td>Oceans Twelve raids box office  Oceans Twelve,...</td>\n",
       "      <td>entertainment</td>\n",
       "    </tr>\n",
       "  </tbody>\n",
       "</table>\n",
       "</div>"
      ],
      "text/plain": [
       "                                                data         labels\n",
       "0  Musicians to tackle US red tape  Musicians gro...  entertainment\n",
       "1  U2s desire to be number one  U2, who have won ...  entertainment\n",
       "2  Rocker Doherty in on-stage fight  Rock singer ...  entertainment\n",
       "3  Snicket tops US box office chart  The film ada...  entertainment\n",
       "4  Oceans Twelve raids box office  Oceans Twelve,...  entertainment"
      ]
     },
     "execution_count": 3,
     "metadata": {},
     "output_type": "execute_result"
    }
   ],
   "source": [
    "bbc_data.head()"
   ]
  },
  {
   "cell_type": "code",
   "execution_count": 4,
   "id": "dec9b186-5c0b-4371-8ce3-f0a231b98676",
   "metadata": {},
   "outputs": [
    {
     "name": "stdout",
     "output_type": "stream",
     "text": [
      "<class 'pandas.core.frame.DataFrame'>\n",
      "RangeIndex: 2225 entries, 0 to 2224\n",
      "Data columns (total 2 columns):\n",
      " #   Column  Non-Null Count  Dtype \n",
      "---  ------  --------------  ----- \n",
      " 0   data    2225 non-null   object\n",
      " 1   labels  2225 non-null   object\n",
      "dtypes: object(2)\n",
      "memory usage: 34.9+ KB\n"
     ]
    }
   ],
   "source": [
    "bbc_data.info()"
   ]
  },
  {
   "cell_type": "code",
   "execution_count": 5,
   "id": "a7c033da-eb6f-4b15-97fa-8684804182b7",
   "metadata": {},
   "outputs": [
    {
     "data": {
      "text/plain": [
       "(2225, 2)"
      ]
     },
     "execution_count": 5,
     "metadata": {},
     "output_type": "execute_result"
    }
   ],
   "source": [
    "bbc_data.shape"
   ]
  },
  {
   "cell_type": "code",
   "execution_count": 6,
   "id": "0ed6b4df-f8c0-49b5-979d-28406ca8384c",
   "metadata": {},
   "outputs": [
    {
     "data": {
      "text/plain": [
       "data      0\n",
       "labels    0\n",
       "dtype: int64"
      ]
     },
     "execution_count": 6,
     "metadata": {},
     "output_type": "execute_result"
    }
   ],
   "source": [
    "bbc_data.isnull().sum()"
   ]
  },
  {
   "cell_type": "code",
   "execution_count": 7,
   "id": "a3ec46d7-d37a-4de2-a6f7-e74cd29415e5",
   "metadata": {},
   "outputs": [
    {
     "data": {
      "text/plain": [
       "99"
      ]
     },
     "execution_count": 7,
     "metadata": {},
     "output_type": "execute_result"
    }
   ],
   "source": [
    "bbc_data.duplicated().sum()"
   ]
  },
  {
   "cell_type": "code",
   "execution_count": 8,
   "id": "5072a419-3229-4945-8933-0f0aec572cd6",
   "metadata": {},
   "outputs": [],
   "source": [
    "bbc_data=bbc_data.dropna()"
   ]
  },
  {
   "cell_type": "code",
   "execution_count": 9,
   "id": "71d656d1-7938-4fd4-8076-edcf0f86654d",
   "metadata": {},
   "outputs": [
    {
     "name": "stdout",
     "output_type": "stream",
     "text": [
      "labels\n",
      "sport            511\n",
      "business         510\n",
      "politics         417\n",
      "tech             401\n",
      "entertainment    386\n",
      "Name: count, dtype: int64\n"
     ]
    }
   ],
   "source": [
    "print(bbc_data['labels'].value_counts())"
   ]
  },
  {
   "cell_type": "code",
   "execution_count": 10,
   "id": "73876d59-019a-4f68-85ca-b689ebe566cb",
   "metadata": {},
   "outputs": [
    {
     "data": {
      "text/plain": [
       "array(['entertainment', 'business', 'sport', 'politics', 'tech'],\n",
       "      dtype=object)"
      ]
     },
     "execution_count": 10,
     "metadata": {},
     "output_type": "execute_result"
    }
   ],
   "source": [
    "bbc_data['labels'].unique()"
   ]
  },
  {
   "cell_type": "code",
   "execution_count": 11,
   "id": "d2932770-51cf-4dc2-b49b-84d6afd94ad9",
   "metadata": {},
   "outputs": [
    {
     "data": {
      "text/plain": [
       "<Axes: xlabel='labels', ylabel='count'>"
      ]
     },
     "execution_count": 11,
     "metadata": {},
     "output_type": "execute_result"
    },
    {
     "data": {
      "image/png": "[encoded data removed]",
      "text/plain": [
       "<Figure size 640x480 with 1 Axes>"
      ]
     },
     "metadata": {},
     "output_type": "display_data"
    }
   ],
   "source": [
    "sns.countplot(x=bbc_data['labels'],data = bbc_data ,color='SlateBlue')"
   ]
  },
  {
   "cell_type": "markdown",
   "id": "e33c6bc9-ad23-477a-8c0b-617a170b3f3a",
   "metadata": {},
   "source": [
    "#  Preprocessing the Text"
   ]
  },
  {
   "cell_type": "code",
   "execution_count": 12,
   "id": "a7eef210-dade-4419-a751-9672aeb31346",
   "metadata": {},
   "outputs": [],
   "source": [
    "import nltk\n",
    "import re\n",
    "from nltk.corpus import stopwords"
   ]
  },
  {
   "cell_type": "code",
   "execution_count": 13,
   "id": "1a200654-b90d-4707-8f4f-3ff303f27aa8",
   "metadata": {},
   "outputs": [
    {
     "name": "stderr",
     "output_type": "stream",
     "text": [
      "[nltk_data] Downloading package stopwords to\n",
      "[nltk_data]     C:\\Users\\Windows\\AppData\\Roaming\\nltk_data...\n",
      "[nltk_data]   Package stopwords is already up-to-date!\n"
     ]
    }
   ],
   "source": [
    "nltk.download('stopwords')\n",
    "stop_words = set(stopwords.words('english'))"
   ]
  },
  {
   "cell_type": "code",
   "execution_count": 14,
   "id": "94ce8df5-0419-484a-b7d8-28ce45de5376",
   "metadata": {},
   "outputs": [],
   "source": [
    "# Function to clean text\n",
    "def preprocess_text(text):\n",
    "    # Convert text to lowercase\n",
    "    text = text.lower()\n",
    "    # Remove punctuation and non-alphabetic characters\n",
    "    text = re.sub(r'[^a-z\\s]', '', text)\n",
    "    # Tokenize the text\n",
    "    words = text.split()\n",
    "    # Remove stopwords\n",
    "    words = [word for word in words if word not in stop_words]\n",
    "    # Join the words back into a single string\n",
    "    return ' '.join(words)\n"
   ]
  },
  {
   "cell_type": "code",
   "execution_count": 15,
   "id": "78b1dc1d-1025-4c9a-9bc2-e5e06c8c97ea",
   "metadata": {},
   "outputs": [],
   "source": [
    "bbc_data['cleaned_text'] = bbc_data['data'].apply(preprocess_text)\n"
   ]
  },
  {
   "cell_type": "code",
   "execution_count": 16,
   "id": "f58776a4-fbb3-4925-908a-f64c255e7569",
   "metadata": {},
   "outputs": [
    {
     "name": "stdout",
     "output_type": "stream",
     "text": [
      "                                                data  \\\n",
      "0  Musicians to tackle US red tape  Musicians gro...   \n",
      "1  U2s desire to be number one  U2, who have won ...   \n",
      "2  Rocker Doherty in on-stage fight  Rock singer ...   \n",
      "3  Snicket tops US box office chart  The film ada...   \n",
      "4  Oceans Twelve raids box office  Oceans Twelve,...   \n",
      "\n",
      "                                        cleaned_text  \n",
      "0  musicians tackle us red tape musicians groups ...  \n",
      "1  us desire number one u three prestigious gramm...  \n",
      "2  rocker doherty onstage fight rock singer pete ...  \n",
      "3  snicket tops us box office chart film adaptati...  \n",
      "4  oceans twelve raids box office oceans twelve c...  \n"
     ]
    }
   ],
   "source": [
    "print(bbc_data[['data', 'cleaned_text']].head())"
   ]
  },
  {
   "cell_type": "markdown",
   "id": "cfa5bda4-aa2a-4d87-8df8-15fdb99b25ca",
   "metadata": {},
   "source": [
    "#  Exploratory Data Analysis (EDA)"
   ]
  },
  {
   "cell_type": "code",
   "execution_count": 17,
   "id": "9e80a4da-4902-434f-8f1d-5b0064acb673",
   "metadata": {},
   "outputs": [
    {
     "data": {
      "image/png": "[encoded data removed]",
      "text/plain": [
       "<Figure size 1000x500 with 1 Axes>"
      ]
     },
     "metadata": {},
     "output_type": "display_data"
    }
   ],
   "source": [
    "# Check the word count in each article\n",
    "bbc_data['word_count'] = bbc_data['cleaned_text'].apply(lambda x: len(x.split()))\n",
    "\n",
    "# Plot the distribution of word counts\n",
    "plt.figure(figsize=(10, 5))\n",
    "sns.histplot(bbc_data['word_count'], bins=30, kde=True)\n",
    "plt.title('Distribution of Word Counts in Articles')\n",
    "plt.show()"
   ]
  },
  {
   "cell_type": "code",
   "execution_count": 18,
   "id": "492e0e4d-357f-4825-bb3f-fceb3e84f0a9",
   "metadata": {},
   "outputs": [
    {
     "data": {
      "image/png": "[encoded data removed]",
      "text/plain": [
       "<Figure size 1000x500 with 1 Axes>"
      ]
     },
     "metadata": {},
     "output_type": "display_data"
    }
   ],
   "source": [
    "plt.figure(figsize=(10, 5))\n",
    "sns.countplot(x='labels', data=bbc_data)\n",
    "plt.title('Distribution of News Categories')\n",
    "plt.show()"
   ]
  },
  {
   "cell_type": "markdown",
   "id": "a9bab5d5-cf3b-4796-94fd-d71408f6a33b",
   "metadata": {},
   "source": [
    "# Text Summarization using BART"
   ]
  },
  {
   "cell_type": "code",
   "execution_count": 19,
   "id": "55818b6b-dd51-47ff-b0fa-b8f7dd84f209",
   "metadata": {},
   "outputs": [
    {
     "name": "stdout",
     "output_type": "stream",
     "text": [
      "WARNING:tensorflow:From C:\\Users\\Windows\\AppData\\Local\\Programs\\Python\\Python312\\Lib\\site-packages\\tf_keras\\src\\losses.py:2976: The name tf.losses.sparse_softmax_cross_entropy is deprecated. Please use tf.compat.v1.losses.sparse_softmax_cross_entropy instead.\n",
      "\n"
     ]
    },
    {
     "data": {
      "application/vnd.jupyter.widget-view+json": {
       "model_id": "fefd89fc0378477cadab26a0b70f5080",
       "version_major": 2,
       "version_minor": 0
      },
      "text/plain": [
       "model.safetensors:   0%|          | 0.00/1.63G [00:00<?, ?B/s]"
      ]
     },
     "metadata": {},
     "output_type": "display_data"
    },
    {
     "data": {
      "application/vnd.jupyter.widget-view+json": {
       "model_id": "4bec441c07454a9b82eb93b2eb7b547b",
       "version_major": 2,
       "version_minor": 0
      },
      "text/plain": [
       "generation_config.json:   0%|          | 0.00/363 [00:00<?, ?B/s]"
      ]
     },
     "metadata": {},
     "output_type": "display_data"
    },
    {
     "data": {
      "application/vnd.jupyter.widget-view+json": {
       "model_id": "9871db82dee8437e92d576b939e2b97e",
       "version_major": 2,
       "version_minor": 0
      },
      "text/plain": [
       "vocab.json:   0%|          | 0.00/899k [00:00<?, ?B/s]"
      ]
     },
     "metadata": {},
     "output_type": "display_data"
    },
    {
     "data": {
      "application/vnd.jupyter.widget-view+json": {
       "model_id": "a12c81bfdb2547b68e107d5362393cde",
       "version_major": 2,
       "version_minor": 0
      },
      "text/plain": [
       "merges.txt:   0%|          | 0.00/456k [00:00<?, ?B/s]"
      ]
     },
     "metadata": {},
     "output_type": "display_data"
    },
    {
     "data": {
      "application/vnd.jupyter.widget-view+json": {
       "model_id": "d3f9e190b86840ec896059e9a28d29c0",
       "version_major": 2,
       "version_minor": 0
      },
      "text/plain": [
       "tokenizer.json:   0%|          | 0.00/1.36M [00:00<?, ?B/s]"
      ]
     },
     "metadata": {},
     "output_type": "display_data"
    },
    {
     "name": "stderr",
     "output_type": "stream",
     "text": [
      "C:\\Users\\Windows\\AppData\\Local\\Programs\\Python\\Python312\\Lib\\site-packages\\transformers\\tokenization_utils_base.py:1601: FutureWarning: `clean_up_tokenization_spaces` was not set. It will be set to `True` by default. This behavior will be depracted in transformers v4.45, and will be then set to `False` by default. For more details check this issue: https://github.com/huggingface/transformers/issues/31884\n",
      "  warnings.warn(\n"
     ]
    },
    {
     "name": "stdout",
     "output_type": "stream",
     "text": [
      "Original Article:\n",
      " musicians tackle us red tape musicians groups tackle us visa regulations blamed hindering british acts chances succeeding across atlantic singer hoping perform us expect pay xcxa simply obtaining visa groups including musicians union calling end raw deal faced british performers us acts faced comparable expense bureaucracy visiting uk promotional purposes nigel mccune musicians union said british musicians disadvantaged compared us counterparts sponsor make petition behalf form amounting nearly pages musicians face tougher regulations athletes journalists make mistake form risk fiveyear ban thus ability career says mr mccune us worlds biggest music market means something done creaky bureaucracy says mr mccune current situation preventing british acts maintaining momentum developing us added musicians union stance endorsed music managers forum mmf say british artists face uphill struggle succeed us thanks tough visa requirements also seen impractical mmfs general secretary james seller said imagine orchestra orkneys every member would travel london visas processed us market seen holy grail one benchmarks success still going fight get still important markets like europe india china added mr seller department media culture sport spokeswoman said aware people experiencing problems working us embassy record industry see us embassy spokesman said aware entertainers require visas timespecific visas everything process applications speedily aware importance cultural exchange best facilitate added\n",
      "\n",
      "Summary:\n",
      "  musicians tackle us red tape musicians groups tackle us visa regulations blamed hindering british acts chances succeeding across atlantic singer hoping perform us expect pay xcxa simply obtaining visa groups including musicians union calling end raw deal.\n"
     ]
    }
   ],
   "source": [
    "from transformers import pipeline\n",
    "\n",
    "# Initialize the summarizer\n",
    "summarizer = pipeline(\"summarization\", model=\"facebook/bart-large-cnn\")\n",
    "\n",
    "# Function to summarize text\n",
    "def summarize_text(text):\n",
    "    # Generate summary with a max length of 130 and min length of 30\n",
    "    summary = summarizer(text, max_length=130, min_length=30, do_sample=False)\n",
    "    return summary[0]['summary_text']\n",
    "\n",
    "# Summarize the first article in the dataset\n",
    "sample_article = bbc_data['cleaned_text'][0]\n",
    "summary = summarize_text(sample_article)\n",
    "\n",
    "print(\"Original Article:\\n\", sample_article)\n",
    "print(\"\\nSummary:\\n\", summary)\n"
   ]
  },
  {
   "cell_type": "markdown",
   "id": "851bbb44-33b7-4b33-b602-6aa5719fb2fb",
   "metadata": {},
   "source": [
    "# yayy!! its working lets save it "
   ]
  },
  {
   "cell_type": "code",
   "execution_count": 20,
   "id": "b8285ec6-00ab-48f6-8dd7-e5a261b01915",
   "metadata": {},
   "outputs": [
    {
     "name": "stderr",
     "output_type": "stream",
     "text": [
      "Some non-default generation parameters are set in the model config. These should go into a GenerationConfig file (https://huggingface.co/docs/transformers/generation_strategies#save-a-custom-decoding-strategy-with-your-model) instead. This warning will be raised to an exception in v4.41.\n",
      "Non-default generation parameters: {'max_length': 142, 'min_length': 56, 'early_stopping': True, 'num_beams': 4, 'length_penalty': 2.0, 'no_repeat_ngram_size': 3, 'forced_bos_token_id': 0, 'forced_eos_token_id': 2}\n",
      "Your min_length=56 must be inferior than your max_length=50.\n",
      "Your max_length is set to 50, but your input_length is only 11. Since this is a summarization task, where outputs shorter than the input are typically wanted, you might consider decreasing max_length manually, e.g. summarizer('...', max_length=5)\n",
      "C:\\Users\\Windows\\AppData\\Local\\Programs\\Python\\Python312\\Lib\\site-packages\\transformers\\generation\\utils.py:1282: UserWarning: Unfeasible length constraints: `min_length` (56) is larger than the maximum possible length (50). Generation will stop at the defined maximum length. You should decrease the minimum length and/or increase the maximum length.\n",
      "  warnings.warn(\n"
     ]
    },
    {
     "name": "stdout",
     "output_type": "stream",
     "text": [
      "This is a sample text for summarization. Use this text to help students with reading comprehension and vocabulary. Use the weekly Newsquiz to test your knowledge of stories you saw on CNN.com. For more information on the Newsqu\n"
     ]
    }
   ],
   "source": [
    "from transformers import pipeline\n",
    "\n",
    "# Initialize the summarizer pipeline\n",
    "summarizer = pipeline(\"summarization\", model=\"facebook/bart-large-cnn\")\n",
    "\n",
    "# Save the pipeline to a local folder\n",
    "summarizer.save_pretrained(\"./bart-summarizer\")\n",
    "\n",
    "# Later, to load the saved model:\n",
    "from transformers import pipeline\n",
    "loaded_summarizer = pipeline(\"summarization\", model=\"./bart-summarizer\")\n",
    "\n",
    "# Test the loaded model\n",
    "summary = loaded_summarizer(\"This is a sample text for summarization.\", max_length=50)\n",
    "print(summary[0]['summary_text'])"
   ]
  },
  {
   "cell_type": "code",
   "execution_count": null,
   "id": "63e53642-71cb-42f9-a14e-939cc172851c",
   "metadata": {},
   "outputs": [],
   "source": []
  }
 ],
 "metadata": {
  "kernelspec": {
   "display_name": "Python 3 (ipykernel)",
   "language": "python",
   "name": "python3"
  },
  "language_info": {
   "codemirror_mode": {
    "name": "ipython",
    "version": 3
   },
   "file_extension": ".py",
   "mimetype": "text/x-python",
   "name": "python",
   "nbconvert_exporter": "python",
   "pygments_lexer": "ipython3",
   "version": "3.12.4"
  }
 },
 "nbformat": 4,
 "nbformat_minor": 5
}
